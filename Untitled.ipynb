{
 "cells": [
  {
   "cell_type": "code",
   "execution_count": 15,
   "id": "1657a4f9-ee6e-4620-a8ea-c8167a702eec",
   "metadata": {},
   "outputs": [
    {
     "name": "stdout",
     "output_type": "stream",
     "text": [
      "     label                                               text\n",
      "0    fraud  hello, i m bank manager of SBI, ur debit card ...\n",
      "1    fraud  Todays Vodafone numbers ending with 4882 are s...\n",
      "2   normal               Please don't say like that. Hi hi hi\n",
      "3   normal                                         Thank you!\n",
      "4   normal  Oh that was a forwarded message. I thought you...\n",
      "5   normal  Got it. Seventeen pounds for seven hundred ml ...\n",
      "6   normal                             Me and him so funny...\n",
      "7   normal  Sweetheart, hope you are not having that kind ...\n",
      "8   normal  When you login date time... Dad fetching you h...\n",
      "9   normal               What will we do in the shower, baby?\n",
      "10   fraud      Your account is at risk! Share OTP to verify.\n",
      "11   fraud               Enter your PIN to claim your reward.\n",
      "12   fraud                              Give me your OTP now.\n",
      "13   fraud    We noticed unusual activity. Send your OTP now!\n",
      "14  normal  I had askd u a question some hours before. Its...\n",
      "label\n",
      "normal    5286\n",
      "fraud      642\n",
      "Name: count, dtype: int64\n"
     ]
    },
    {
     "data": {
      "image/png": "[encoded data removed]",
      "text/plain": [
       "<Figure size 640x480 with 1 Axes>"
      ]
     },
     "metadata": {},
     "output_type": "display_data"
    },
    {
     "name": "stdout",
     "output_type": "stream",
     "text": [
      "    label                                               text\n",
      "0       1  hello, i m bank manager of SBI, ur debit card ...\n",
      "1       1  Todays Vodafone numbers ending with 4882 are s...\n",
      "2       0               Please don't say like that. Hi hi hi\n",
      "3       0                                         Thank you!\n",
      "4       0  Oh that was a forwarded message. I thought you...\n",
      "5       0  Got it. Seventeen pounds for seven hundred ml ...\n",
      "6       0                             Me and him so funny...\n",
      "7       0  Sweetheart, hope you are not having that kind ...\n",
      "8       0  When you login date time... Dad fetching you h...\n",
      "9       0               What will we do in the shower, baby?\n",
      "10      1      Your account is at risk! Share OTP to verify.\n",
      "11      1               Enter your PIN to claim your reward.\n",
      "12      1                              Give me your OTP now.\n",
      "13      1    We noticed unusual activity. Send your OTP now!\n",
      "14      0  I had askd u a question some hours before. Its...\n"
     ]
    },
    {
     "name": "stderr",
     "output_type": "stream",
     "text": [
      "C:\\Users\\gadek\\AppData\\Local\\Temp\\ipykernel_12844\\437046785.py:27: FutureWarning: A value is trying to be set on a copy of a DataFrame or Series through chained assignment using an inplace method.\n",
      "The behavior will change in pandas 3.0. This inplace method will never work because the intermediate object on which we are setting values always behaves as a copy.\n",
      "\n",
      "For example, when doing 'df[col].method(value, inplace=True)', try using 'df.method({col: value}, inplace=True)' or df[col] = df[col].method(value) instead, to perform the operation inplace on the original object.\n",
      "\n",
      "\n",
      "  df['label'].replace([\"fraud\", \"normal\"], [1, 0], inplace=True)\n",
      "C:\\Users\\gadek\\AppData\\Local\\Temp\\ipykernel_12844\\437046785.py:27: FutureWarning: Downcasting behavior in `replace` is deprecated and will be removed in a future version. To retain the old behavior, explicitly call `result.infer_objects(copy=False)`. To opt-in to the future behavior, set `pd.set_option('future.no_silent_downcasting', True)`\n",
      "  df['label'].replace([\"fraud\", \"normal\"], [1, 0], inplace=True)\n"
     ]
    },
    {
     "name": "stdout",
     "output_type": "stream",
     "text": [
      "Accuracy: 0.9822934232715008\n",
      "Precision: 0.9831932773109243\n",
      "              precision    recall  f1-score   support\n",
      "\n",
      "           0       0.98      1.00      0.99      1050\n",
      "           1       0.98      0.86      0.92       136\n",
      "\n",
      "    accuracy                           0.98      1186\n",
      "   macro avg       0.98      0.93      0.95      1186\n",
      "weighted avg       0.98      0.98      0.98      1186\n",
      "\n"
     ]
    }
   ],
   "source": [
    "import numpy as np\n",
    "import pandas as pd\n",
    "import matplotlib.pyplot as plt\n",
    "import seaborn as sns\n",
    "from sklearn.model_selection import train_test_split\n",
    "from sklearn.linear_model import LogisticRegression\n",
    "from sklearn.feature_extraction.text import TfidfVectorizer\n",
    "from sklearn import metrics\n",
    "\n",
    "# Load dataset\n",
    "df = pd.read_csv(\"cleaned_dataset.csv\")\n",
    "\n",
    "# Display first 5 rows\n",
    "print(df.head(15))\n",
    "\n",
    "# Count fraud vs normal calls\n",
    "print(df['label'].value_counts())\n",
    "\n",
    "# Plot fraud vs normal calls\n",
    "plt.hist(df['label'], color='r')\n",
    "plt.title(\"Fraud Calls vs Normal Calls\")\n",
    "plt.xlabel(\"Fraud (1) vs Normal (0)\")\n",
    "plt.ylabel(\"Count\")\n",
    "plt.show()\n",
    "\n",
    "# Convert 'label' to binary (1 = Fraud, 0 = Normal)\n",
    "df['label'].replace([\"fraud\", \"normal\"], [1, 0], inplace=True)\n",
    "\n",
    "print(df.head(15))\n",
    "\n",
    "# **✅ Fix: Use TF-IDF Vectorizer for Text Processing**\n",
    "vectorizer = TfidfVectorizer(ngram_range=(1, 2))  # Bi-grams\n",
    "X = vectorizer.fit_transform(df['text'])  # Convert text into numerical features\n",
    "Y = df['label']\n",
    "\n",
    "# Train-test split\n",
    "X_train, X_test, Y_train, Y_test = train_test_split(X, Y, test_size=0.2, random_state=42)\n",
    "\n",
    "# Train Logistic Regression Model\n",
    "# Train Logistic Regression Model with class balancing\n",
    "model = LogisticRegression(class_weight='balanced', random_state=42)\n",
    "model.fit(X_train, Y_train)\n",
    "\n",
    "\n",
    "# Predictions\n",
    "y_pred = model.predict(X_test)\n",
    "\n",
    "# Print Accuracy Metrics\n",
    "print(\"Accuracy:\", metrics.accuracy_score(Y_test, y_pred))\n",
    "print(\"Precision:\", metrics.precision_score(Y_test, y_pred, zero_division=1))\n",
    "print(metrics.classification_report(Y_test, y_pred))\n"
   ]
  },
  {
   "cell_type": "code",
   "execution_count": 18,
   "id": "2b7615db-859b-4150-b44d-720ace312db0",
   "metadata": {},
   "outputs": [
    {
     "name": "stdin",
     "output_type": "stream",
     "text": [
      "\n",
      "📩 Enter a message to test (or type 'exit' to quit):  otp\n"
     ]
    },
    {
     "name": "stdout",
     "output_type": "stream",
     "text": [
      "🔹 Prediction: Fraud\n"
     ]
    },
    {
     "name": "stdin",
     "output_type": "stream",
     "text": [
      "\n",
      "📩 Enter a message to test (or type 'exit' to quit):  give me otp\n"
     ]
    },
    {
     "name": "stdout",
     "output_type": "stream",
     "text": [
      "🔹 Prediction: Normal\n"
     ]
    },
    {
     "name": "stdin",
     "output_type": "stream",
     "text": [
      "\n",
      "📩 Enter a message to test (or type 'exit' to quit):  give me your otp\n"
     ]
    },
    {
     "name": "stdout",
     "output_type": "stream",
     "text": [
      "🔹 Prediction: Fraud\n"
     ]
    },
    {
     "name": "stdin",
     "output_type": "stream",
     "text": [
      "\n",
      "📩 Enter a message to test (or type 'exit' to quit):  tell me your bank details\n"
     ]
    },
    {
     "name": "stdout",
     "output_type": "stream",
     "text": [
      "🔹 Prediction: Fraud\n"
     ]
    },
    {
     "name": "stdin",
     "output_type": "stream",
     "text": [
      "\n",
      "📩 Enter a message to test (or type 'exit' to quit):  tell your CVV\n"
     ]
    },
    {
     "name": "stdout",
     "output_type": "stream",
     "text": [
      "🔹 Prediction: Fraud\n"
     ]
    },
    {
     "name": "stdin",
     "output_type": "stream",
     "text": [
      "\n",
      "📩 Enter a message to test (or type 'exit' to quit):  give me your debit card no\n"
     ]
    },
    {
     "name": "stdout",
     "output_type": "stream",
     "text": [
      "🔹 Prediction: Fraud\n"
     ]
    },
    {
     "name": "stdin",
     "output_type": "stream",
     "text": [
      "\n",
      "📩 Enter a message to test (or type 'exit' to quit):  hell\n"
     ]
    },
    {
     "name": "stdout",
     "output_type": "stream",
     "text": [
      "🔹 Prediction: Normal\n"
     ]
    },
    {
     "name": "stdin",
     "output_type": "stream",
     "text": [
      "\n",
      "📩 Enter a message to test (or type 'exit' to quit):  you won a gift card please provide your bank detail\n"
     ]
    },
    {
     "name": "stdout",
     "output_type": "stream",
     "text": [
      "🔹 Prediction: Fraud\n"
     ]
    },
    {
     "name": "stdin",
     "output_type": "stream",
     "text": [
      "\n",
      "📩 Enter a message to test (or type 'exit' to quit):  hi how are you\n"
     ]
    },
    {
     "name": "stdout",
     "output_type": "stream",
     "text": [
      "🔹 Prediction: Normal\n"
     ]
    },
    {
     "name": "stdin",
     "output_type": "stream",
     "text": [
      "\n",
      "📩 Enter a message to test (or type 'exit' to quit):  do not share your otp to anyone\n"
     ]
    },
    {
     "name": "stdout",
     "output_type": "stream",
     "text": [
      "🔹 Prediction: Fraud\n"
     ]
    },
    {
     "name": "stdin",
     "output_type": "stream",
     "text": [
      "\n",
      "📩 Enter a message to test (or type 'exit' to quit):  not\n"
     ]
    },
    {
     "name": "stdout",
     "output_type": "stream",
     "text": [
      "🔹 Prediction: Normal\n"
     ]
    },
    {
     "name": "stdin",
     "output_type": "stream",
     "text": [
      "\n",
      "📩 Enter a message to test (or type 'exit' to quit):  share\n"
     ]
    },
    {
     "name": "stdout",
     "output_type": "stream",
     "text": [
      "🔹 Prediction: Normal\n"
     ]
    },
    {
     "name": "stdin",
     "output_type": "stream",
     "text": [
      "\n",
      "📩 Enter a message to test (or type 'exit' to quit):  share otp\n"
     ]
    },
    {
     "name": "stdout",
     "output_type": "stream",
     "text": [
      "🔹 Prediction: Fraud\n"
     ]
    },
    {
     "name": "stdin",
     "output_type": "stream",
     "text": [
      "\n",
      "📩 Enter a message to test (or type 'exit' to quit):  account no\n"
     ]
    },
    {
     "name": "stdout",
     "output_type": "stream",
     "text": [
      "🔹 Prediction: Fraud\n"
     ]
    },
    {
     "name": "stdin",
     "output_type": "stream",
     "text": [
      "\n",
      "📩 Enter a message to test (or type 'exit' to quit):  your name please\n"
     ]
    },
    {
     "name": "stdout",
     "output_type": "stream",
     "text": [
      "🔹 Prediction: Fraud\n"
     ]
    },
    {
     "name": "stdin",
     "output_type": "stream",
     "text": [
      "\n",
      "📩 Enter a message to test (or type 'exit' to quit):  what is your name\n"
     ]
    },
    {
     "name": "stdout",
     "output_type": "stream",
     "text": [
      "🔹 Prediction: Normal\n"
     ]
    },
    {
     "name": "stdin",
     "output_type": "stream",
     "text": [
      "\n",
      "📩 Enter a message to test (or type 'exit' to quit):  om kumavat\n"
     ]
    },
    {
     "name": "stdout",
     "output_type": "stream",
     "text": [
      "🔹 Prediction: Normal\n"
     ]
    },
    {
     "name": "stdin",
     "output_type": "stream",
     "text": [
      "\n",
      "📩 Enter a message to test (or type 'exit' to quit):  shivaji gadekar\n"
     ]
    },
    {
     "name": "stdout",
     "output_type": "stream",
     "text": [
      "🔹 Prediction: Normal\n"
     ]
    },
    {
     "name": "stdin",
     "output_type": "stream",
     "text": [
      "\n",
      "📩 Enter a message to test (or type 'exit' to quit):  give\n"
     ]
    },
    {
     "name": "stdout",
     "output_type": "stream",
     "text": [
      "🔹 Prediction: Normal\n"
     ]
    },
    {
     "name": "stdin",
     "output_type": "stream",
     "text": [
      "\n",
      "📩 Enter a message to test (or type 'exit' to quit):  please tell me\n"
     ]
    },
    {
     "name": "stdout",
     "output_type": "stream",
     "text": [
      "🔹 Prediction: Normal\n"
     ]
    },
    {
     "name": "stdin",
     "output_type": "stream",
     "text": [
      "\n",
      "📩 Enter a message to test (or type 'exit' to quit):  please tell me your bank details\n"
     ]
    },
    {
     "name": "stdout",
     "output_type": "stream",
     "text": [
      "🔹 Prediction: Fraud\n"
     ]
    },
    {
     "name": "stdin",
     "output_type": "stream",
     "text": [
      "\n",
      "📩 Enter a message to test (or type 'exit' to quit):  bank\n"
     ]
    },
    {
     "name": "stdout",
     "output_type": "stream",
     "text": [
      "🔹 Prediction: Fraud\n"
     ]
    },
    {
     "name": "stdin",
     "output_type": "stream",
     "text": [
      "\n",
      "📩 Enter a message to test (or type 'exit' to quit):  tell\n"
     ]
    },
    {
     "name": "stdout",
     "output_type": "stream",
     "text": [
      "🔹 Prediction: Normal\n"
     ]
    },
    {
     "name": "stdin",
     "output_type": "stream",
     "text": [
      "\n",
      "📩 Enter a message to test (or type 'exit' to quit):  give\n"
     ]
    },
    {
     "name": "stdout",
     "output_type": "stream",
     "text": [
      "🔹 Prediction: Normal\n"
     ]
    },
    {
     "name": "stdin",
     "output_type": "stream",
     "text": [
      "\n",
      "📩 Enter a message to test (or type 'exit' to quit):  give me otp\n"
     ]
    },
    {
     "name": "stdout",
     "output_type": "stream",
     "text": [
      "🔹 Prediction: Normal\n"
     ]
    },
    {
     "name": "stdin",
     "output_type": "stream",
     "text": [
      "\n",
      "📩 Enter a message to test (or type 'exit' to quit):  give me your otp\n"
     ]
    },
    {
     "name": "stdout",
     "output_type": "stream",
     "text": [
      "🔹 Prediction: Fraud\n"
     ]
    },
    {
     "name": "stdin",
     "output_type": "stream",
     "text": [
      "\n",
      "📩 Enter a message to test (or type 'exit' to quit):  hello sir, we are from your bank have you fill the application form for credit card. verify your document\n"
     ]
    },
    {
     "name": "stdout",
     "output_type": "stream",
     "text": [
      "🔹 Prediction: Fraud\n"
     ]
    },
    {
     "name": "stdin",
     "output_type": "stream",
     "text": [
      "\n",
      "📩 Enter a message to test (or type 'exit' to quit):  exit\n"
     ]
    }
   ],
   "source": [
    "while True:\n",
    "    user_input = input(\"\\n📩 Enter a message to test (or type 'exit' to quit): \")\n",
    "    if user_input.lower() == 'exit':\n",
    "        break\n",
    "    \n",
    "    # Ensure proper feature extraction\n",
    "    input_vectorized = vectorizer.transform([user_input.lower()])  # Lowercasing helps match training data\n",
    "    \n",
    "    prediction = model.predict(input_vectorized)[0]\n",
    "    print(\"🔹 Prediction:\", \"Fraud\" if prediction == 1 else \"Normal\")\n"
   ]
  },
  {
   "cell_type": "code",
   "execution_count": 14,
   "id": "1488226f-3f16-4f5e-acb3-5be0a5ad4f75",
   "metadata": {},
   "outputs": [
    {
     "name": "stdout",
     "output_type": "stream",
     "text": [
      "Requirement already satisfied: transformers in c:\\users\\gadek\\appdata\\local\\programs\\python\\python311\\lib\\site-packages (4.48.3)\n",
      "Requirement already satisfied: datasets in c:\\users\\gadek\\appdata\\local\\programs\\python\\python311\\lib\\site-packages (3.3.2)\n",
      "Requirement already satisfied: torch in c:\\users\\gadek\\appdata\\local\\programs\\python\\python311\\lib\\site-packages (2.4.1+cpu)\n",
      "Requirement already satisfied: filelock in c:\\users\\gadek\\appdata\\local\\programs\\python\\python311\\lib\\site-packages (from transformers) (3.16.1)\n",
      "Requirement already satisfied: huggingface-hub<1.0,>=0.24.0 in c:\\users\\gadek\\appdata\\local\\programs\\python\\python311\\lib\\site-packages (from transformers) (0.25.1)\n",
      "Requirement already satisfied: numpy>=1.17 in c:\\users\\gadek\\appdata\\local\\programs\\python\\python311\\lib\\site-packages (from transformers) (2.0.2)\n",
      "Requirement already satisfied: packaging>=20.0 in c:\\users\\gadek\\appdata\\local\\programs\\python\\python311\\lib\\site-packages (from transformers) (24.1)\n",
      "Requirement already satisfied: pyyaml>=5.1 in c:\\users\\gadek\\appdata\\local\\programs\\python\\python311\\lib\\site-packages (from transformers) (6.0.2)\n",
      "Requirement already satisfied: regex!=2019.12.17 in c:\\users\\gadek\\appdata\\local\\programs\\python\\python311\\lib\\site-packages (from transformers) (2024.11.6)\n",
      "Requirement already satisfied: requests in c:\\users\\gadek\\appdata\\local\\programs\\python\\python311\\lib\\site-packages (from transformers) (2.32.3)\n",
      "Requirement already satisfied: tokenizers<0.22,>=0.21 in c:\\users\\gadek\\appdata\\local\\programs\\python\\python311\\lib\\site-packages (from transformers) (0.21.0)\n",
      "Requirement already satisfied: safetensors>=0.4.1 in c:\\users\\gadek\\appdata\\local\\programs\\python\\python311\\lib\\site-packages (from transformers) (0.4.5)\n",
      "Requirement already satisfied: tqdm>=4.27 in c:\\users\\gadek\\appdata\\local\\programs\\python\\python311\\lib\\site-packages (from transformers) (4.66.5)\n",
      "Requirement already satisfied: pyarrow>=15.0.0 in c:\\users\\gadek\\appdata\\local\\programs\\python\\python311\\lib\\site-packages (from datasets) (18.1.0)\n",
      "Requirement already satisfied: dill<0.3.9,>=0.3.0 in c:\\users\\gadek\\appdata\\local\\programs\\python\\python311\\lib\\site-packages (from datasets) (0.3.8)\n",
      "Requirement already satisfied: pandas in c:\\users\\gadek\\appdata\\local\\programs\\python\\python311\\lib\\site-packages (from datasets) (2.2.2)\n",
      "Requirement already satisfied: xxhash in c:\\users\\gadek\\appdata\\local\\programs\\python\\python311\\lib\\site-packages (from datasets) (3.5.0)\n",
      "Requirement already satisfied: multiprocess<0.70.17 in c:\\users\\gadek\\appdata\\local\\programs\\python\\python311\\lib\\site-packages (from datasets) (0.70.16)\n",
      "Requirement already satisfied: fsspec<=2024.12.0,>=2023.1.0 in c:\\users\\gadek\\appdata\\local\\programs\\python\\python311\\lib\\site-packages (from fsspec[http]<=2024.12.0,>=2023.1.0->datasets) (2024.9.0)\n",
      "Requirement already satisfied: aiohttp in c:\\users\\gadek\\appdata\\local\\programs\\python\\python311\\lib\\site-packages (from datasets) (3.9.2)\n",
      "Requirement already satisfied: typing-extensions>=4.8.0 in c:\\users\\gadek\\appdata\\local\\programs\\python\\python311\\lib\\site-packages (from torch) (4.12.2)\n",
      "Requirement already satisfied: sympy in c:\\users\\gadek\\appdata\\local\\programs\\python\\python311\\lib\\site-packages (from torch) (1.13.3)\n",
      "Requirement already satisfied: networkx in c:\\users\\gadek\\appdata\\local\\programs\\python\\python311\\lib\\site-packages (from torch) (3.3)\n",
      "Requirement already satisfied: jinja2 in c:\\users\\gadek\\appdata\\local\\programs\\python\\python311\\lib\\site-packages (from torch) (3.1.4)\n",
      "Requirement already satisfied: aiosignal>=1.1.2 in c:\\users\\gadek\\appdata\\local\\programs\\python\\python311\\lib\\site-packages (from aiohttp->datasets) (1.3.1)\n",
      "Requirement already satisfied: attrs>=17.3.0 in c:\\users\\gadek\\appdata\\local\\programs\\python\\python311\\lib\\site-packages (from aiohttp->datasets) (24.2.0)\n",
      "Requirement already satisfied: frozenlist>=1.1.1 in c:\\users\\gadek\\appdata\\local\\programs\\python\\python311\\lib\\site-packages (from aiohttp->datasets) (1.5.0)\n",
      "Requirement already satisfied: multidict<7.0,>=4.5 in c:\\users\\gadek\\appdata\\local\\programs\\python\\python311\\lib\\site-packages (from aiohttp->datasets) (6.1.0)\n",
      "Requirement already satisfied: yarl<2.0,>=1.0 in c:\\users\\gadek\\appdata\\local\\programs\\python\\python311\\lib\\site-packages (from aiohttp->datasets) (1.18.0)\n",
      "Requirement already satisfied: charset-normalizer<4,>=2 in c:\\users\\gadek\\appdata\\local\\programs\\python\\python311\\lib\\site-packages (from requests->transformers) (3.3.2)\n",
      "Requirement already satisfied: idna<4,>=2.5 in c:\\users\\gadek\\appdata\\local\\programs\\python\\python311\\lib\\site-packages (from requests->transformers) (3.8)\n",
      "Requirement already satisfied: urllib3<3,>=1.21.1 in c:\\users\\gadek\\appdata\\local\\programs\\python\\python311\\lib\\site-packages (from requests->transformers) (2.2.2)\n",
      "Requirement already satisfied: certifi>=2017.4.17 in c:\\users\\gadek\\appdata\\local\\programs\\python\\python311\\lib\\site-packages (from requests->transformers) (2024.8.30)\n",
      "Requirement already satisfied: colorama in c:\\users\\gadek\\appdata\\local\\programs\\python\\python311\\lib\\site-packages (from tqdm>=4.27->transformers) (0.4.6)\n",
      "Requirement already satisfied: MarkupSafe>=2.0 in c:\\users\\gadek\\appdata\\local\\programs\\python\\python311\\lib\\site-packages (from jinja2->torch) (2.1.5)\n",
      "Requirement already satisfied: python-dateutil>=2.8.2 in c:\\users\\gadek\\appdata\\local\\programs\\python\\python311\\lib\\site-packages (from pandas->datasets) (2.9.0.post0)\n",
      "Requirement already satisfied: pytz>=2020.1 in c:\\users\\gadek\\appdata\\local\\programs\\python\\python311\\lib\\site-packages (from pandas->datasets) (2024.2)\n",
      "Requirement already satisfied: tzdata>=2022.7 in c:\\users\\gadek\\appdata\\local\\programs\\python\\python311\\lib\\site-packages (from pandas->datasets) (2024.1)\n",
      "Requirement already satisfied: mpmath<1.4,>=1.1.0 in c:\\users\\gadek\\appdata\\local\\programs\\python\\python311\\lib\\site-packages (from sympy->torch) (1.3.0)\n",
      "Requirement already satisfied: six>=1.5 in c:\\users\\gadek\\appdata\\local\\programs\\python\\python311\\lib\\site-packages (from python-dateutil>=2.8.2->pandas->datasets) (1.15.0)\n",
      "Requirement already satisfied: propcache>=0.2.0 in c:\\users\\gadek\\appdata\\local\\programs\\python\\python311\\lib\\site-packages (from yarl<2.0,>=1.0->aiohttp->datasets) (0.2.0)\n"
     ]
    },
    {
     "name": "stderr",
     "output_type": "stream",
     "text": [
      "\n",
      "[notice] A new release of pip is available: 24.3.1 -> 25.0.1\n",
      "[notice] To update, run: python.exe -m pip install --upgrade pip\n"
     ]
    }
   ],
   "source": [
    "!pip install transformers datasets torch"
   ]
  },
  {
   "cell_type": "code",
   "execution_count": null,
   "id": "0d1d75e3-69fa-4049-bf12-741ead6b3f81",
   "metadata": {},
   "outputs": [],
   "source": []
  },
  {
   "cell_type": "code",
   "execution_count": 17,
   "id": "24a8ceaa-bdbd-4706-adcc-8107ec45ded1",
   "metadata": {},
   "outputs": [
    {
     "name": "stdout",
     "output_type": "stream",
     "text": [
      "Accuracy: 0.9418604651162791\n",
      "Precision: 0.9834710743801653\n",
      "              precision    recall  f1-score   support\n",
      "\n",
      "           0       0.84      0.96      0.90        45\n",
      "           1       0.98      0.94      0.96       127\n",
      "\n",
      "    accuracy                           0.94       172\n",
      "   macro avg       0.91      0.95      0.93       172\n",
      "weighted avg       0.95      0.94      0.94       172\n",
      "\n"
     ]
    },
    {
     "name": "stderr",
     "output_type": "stream",
     "text": [
      "C:\\Users\\gadek\\AppData\\Local\\Temp\\ipykernel_12844\\3721358975.py:15: FutureWarning: A value is trying to be set on a copy of a DataFrame or Series through chained assignment using an inplace method.\n",
      "The behavior will change in pandas 3.0. This inplace method will never work because the intermediate object on which we are setting values always behaves as a copy.\n",
      "\n",
      "For example, when doing 'df[col].method(value, inplace=True)', try using 'df.method({col: value}, inplace=True)' or df[col] = df[col].method(value) instead, to perform the operation inplace on the original object.\n",
      "\n",
      "\n",
      "  df['label'].replace([\"fraud\", \"normal\"], [1, 0], inplace=True)\n",
      "C:\\Users\\gadek\\AppData\\Local\\Temp\\ipykernel_12844\\3721358975.py:15: FutureWarning: Downcasting behavior in `replace` is deprecated and will be removed in a future version. To retain the old behavior, explicitly call `result.infer_objects(copy=False)`. To opt-in to the future behavior, set `pd.set_option('future.no_silent_downcasting', True)`\n",
      "  df['label'].replace([\"fraud\", \"normal\"], [1, 0], inplace=True)\n"
     ]
    }
   ],
   "source": [
    "import numpy as np\n",
    "import pandas as pd\n",
    "import matplotlib.pyplot as plt\n",
    "import seaborn as sns\n",
    "from sklearn.model_selection import train_test_split\n",
    "from sklearn.linear_model import LogisticRegression\n",
    "from sklearn.feature_extraction.text import TfidfVectorizer\n",
    "from sklearn import metrics\n",
    "from sklearn.utils import resample\n",
    "\n",
    "# Load dataset\n",
    "df = pd.read_csv(\"cleaned_dataset.csv\")\n",
    "\n",
    "# Convert 'label' to binary (1 = Fraud, 0 = Normal)\n",
    "df['label'].replace([\"fraud\", \"normal\"], [1, 0], inplace=True)\n",
    "\n",
    "# Separate fraud and normal data\n",
    "fraud_df = df[df['label'] == 1]\n",
    "normal_df = df[df['label'] == 0]\n",
    "\n",
    "# **✅ Ensure 75% Fraud & 25% Normal**\n",
    "num_fraud = len(fraud_df)\n",
    "num_normal = int(num_fraud * (25 / 75))  # 25% of fraud count\n",
    "\n",
    "# Downsample normal data to match 75%-25% ratio\n",
    "normal_sampled = normal_df.sample(n=num_normal, random_state=42, replace=False)\n",
    "\n",
    "# Merge the datasets\n",
    "balanced_df = pd.concat([fraud_df, normal_sampled])\n",
    "\n",
    "# Shuffle dataset\n",
    "balanced_df = balanced_df.sample(frac=1, random_state=42).reset_index(drop=True)\n",
    "\n",
    "# **✅ TF-IDF Vectorization**\n",
    "vectorizer = TfidfVectorizer(ngram_range=(1, 2))  # Bi-grams\n",
    "X = vectorizer.fit_transform(balanced_df['text'])  # Convert text into numerical features\n",
    "Y = balanced_df['label']\n",
    "\n",
    "# Train-test split\n",
    "X_train, X_test, Y_train, Y_test = train_test_split(X, Y, test_size=0.2, random_state=42)\n",
    "\n",
    "# **✅ Train Logistic Regression Model with Class Balancing**\n",
    "model = LogisticRegression(class_weight='balanced', random_state=42)\n",
    "model.fit(X_train, Y_train)\n",
    "\n",
    "# Predictions\n",
    "y_pred = model.predict(X_test)\n",
    "\n",
    "# Print Accuracy Metrics\n",
    "print(\"Accuracy:\", metrics.accuracy_score(Y_test, y_pred))\n",
    "print(\"Precision:\", metrics.precision_score(Y_test, y_pred, zero_division=1))\n",
    "print(metrics.classification_report(Y_test, y_pred))\n"
   ]
  },
  {
   "cell_type": "code",
   "execution_count": 19,
   "id": "7a4690b8-7931-41d8-8637-ef0df66d5ede",
   "metadata": {},
   "outputs": [
    {
     "name": "stdout",
     "output_type": "stream",
     "text": [
      "✅ Model and vectorizer saved successfully!\n",
      "Accuracy: 0.9418604651162791\n",
      "Precision: 0.9834710743801653\n",
      "              precision    recall  f1-score   support\n",
      "\n",
      "           0       0.84      0.96      0.90        45\n",
      "           1       0.98      0.94      0.96       127\n",
      "\n",
      "    accuracy                           0.94       172\n",
      "   macro avg       0.91      0.95      0.93       172\n",
      "weighted avg       0.95      0.94      0.94       172\n",
      "\n"
     ]
    },
    {
     "name": "stderr",
     "output_type": "stream",
     "text": [
      "C:\\Users\\gadek\\AppData\\Local\\Temp\\ipykernel_12844\\965211803.py:16: FutureWarning: A value is trying to be set on a copy of a DataFrame or Series through chained assignment using an inplace method.\n",
      "The behavior will change in pandas 3.0. This inplace method will never work because the intermediate object on which we are setting values always behaves as a copy.\n",
      "\n",
      "For example, when doing 'df[col].method(value, inplace=True)', try using 'df.method({col: value}, inplace=True)' or df[col] = df[col].method(value) instead, to perform the operation inplace on the original object.\n",
      "\n",
      "\n",
      "  df['label'].replace([\"fraud\", \"normal\"], [1, 0], inplace=True)\n",
      "C:\\Users\\gadek\\AppData\\Local\\Temp\\ipykernel_12844\\965211803.py:16: FutureWarning: Downcasting behavior in `replace` is deprecated and will be removed in a future version. To retain the old behavior, explicitly call `result.infer_objects(copy=False)`. To opt-in to the future behavior, set `pd.set_option('future.no_silent_downcasting', True)`\n",
      "  df['label'].replace([\"fraud\", \"normal\"], [1, 0], inplace=True)\n"
     ]
    }
   ],
   "source": [
    "import numpy as np\n",
    "import pandas as pd\n",
    "import matplotlib.pyplot as plt\n",
    "import seaborn as sns\n",
    "import joblib  # ✅ Import joblib for saving the model\n",
    "from sklearn.model_selection import train_test_split\n",
    "from sklearn.linear_model import LogisticRegression\n",
    "from sklearn.feature_extraction.text import TfidfVectorizer\n",
    "from sklearn import metrics\n",
    "from sklearn.utils import resample\n",
    "\n",
    "# Load dataset\n",
    "df = pd.read_csv(\"cleaned_dataset.csv\")\n",
    "\n",
    "# Convert 'label' to binary (1 = Fraud, 0 = Normal)\n",
    "df['label'].replace([\"fraud\", \"normal\"], [1, 0], inplace=True)\n",
    "\n",
    "# Separate fraud and normal data\n",
    "fraud_df = df[df['label'] == 1]\n",
    "normal_df = df[df['label'] == 0]\n",
    "\n",
    "# **✅ Ensure 75% Fraud & 25% Normal**\n",
    "num_fraud = len(fraud_df)\n",
    "num_normal = int(num_fraud * (25 / 75))  # 25% of fraud count\n",
    "\n",
    "# Downsample normal data to match 75%-25% ratio\n",
    "normal_sampled = normal_df.sample(n=num_normal, random_state=42, replace=False)\n",
    "\n",
    "# Merge the datasets\n",
    "balanced_df = pd.concat([fraud_df, normal_sampled])\n",
    "\n",
    "# Shuffle dataset\n",
    "balanced_df = balanced_df.sample(frac=1, random_state=42).reset_index(drop=True)\n",
    "\n",
    "# **✅ TF-IDF Vectorization**\n",
    "vectorizer = TfidfVectorizer(ngram_range=(1, 2))  # Bi-grams\n",
    "X = vectorizer.fit_transform(balanced_df['text'])  # Convert text into numerical features\n",
    "Y = balanced_df['label']\n",
    "\n",
    "# Train-test split\n",
    "X_train, X_test, Y_train, Y_test = train_test_split(X, Y, test_size=0.2, random_state=42)\n",
    "\n",
    "# **✅ Train Logistic Regression Model with Class Balancing**\n",
    "model = LogisticRegression(class_weight='balanced', random_state=42)\n",
    "model.fit(X_train, Y_train)\n",
    "\n",
    "# **✅ Save the Model**\n",
    "joblib.dump(model, \"finaltrainmodel.pkl\")  # Save trained model\n",
    "joblib.dump(vectorizer, \"vectorizer.pkl\")  # Save TF-IDF vectorizer\n",
    "\n",
    "print(\"✅ Model and vectorizer saved successfully!\")\n",
    "\n",
    "# Predictions\n",
    "y_pred = model.predict(X_test)\n",
    "\n",
    "# Print Accuracy Metrics\n",
    "print(\"Accuracy:\", metrics.accuracy_score(Y_test, y_pred))\n",
    "print(\"Precision:\", metrics.precision_score(Y_test, y_pred, zero_division=1))\n",
    "print(metrics.classification_report(Y_test, y_pred))\n"
   ]
  },
  {
   "cell_type": "code",
   "execution_count": null,
   "id": "00e19526-bf0f-45c3-a220-c31b7c6e4451",
   "metadata": {},
   "outputs": [],
   "source": []
  }
 ],
 "metadata": {
  "kernelspec": {
   "display_name": "Python 3 (ipykernel)",
   "language": "python",
   "name": "python3"
  },
  "language_info": {
   "codemirror_mode": {
    "name": "ipython",
    "version": 3
   },
   "file_extension": ".py",
   "mimetype": "text/x-python",
   "name": "python",
   "nbconvert_exporter": "python",
   "pygments_lexer": "ipython3",
   "version": "3.11.9"
  }
 },
 "nbformat": 4,
 "nbformat_minor": 5
}
